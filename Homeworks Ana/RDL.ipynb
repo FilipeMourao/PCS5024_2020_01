{
 "cells": [
  {
   "cell_type": "code",
   "execution_count": 9,
   "metadata": {},
   "outputs": [],
   "source": [
    "import numpy as np"
   ]
  },
  {
   "cell_type": "code",
   "execution_count": 10,
   "metadata": {},
   "outputs": [],
   "source": [
    "# Actions and respectivy probabilities\n",
    "a11_p11 = 0.5; a11_p12 = 0.5; a12_p11 = 0.5;a12_p12 = 0.5\n",
    "a21_p21 = 1.; a21_p22 = 0; a22_p21 = 0;a22_p22 = 1.\n",
    "# Rewards \n",
    "r1 = 3.; r2 = -1.\n",
    "# Gamma\n",
    "gamma = 0.5"
   ]
  },
  {
   "cell_type": "code",
   "execution_count": 11,
   "metadata": {},
   "outputs": [],
   "source": [
    "# check stop criteria\n",
    "def  checkStopCriteria(v1,v0):\n",
    "    stopCriteria = np.abs((np.inner(v1,v1) - np.inner(v0,v0) )/(np.inner(v0,v0)))\n",
    "    if   stopCriteria < 0.0001 : \n",
    "        return True\n",
    "    else:\n",
    "        return False\n"
   ]
  },
  {
   "cell_type": "code",
   "execution_count": 12,
   "metadata": {},
   "outputs": [
    {
     "output_type": "stream",
     "name": "stdout",
     "text": "--------------------------------------------------\nIteration 1\n state 1 = 3.0\n state 2 = -1.0 \n--------------------------------------------------\nIteration 2\n state 1 = 3.5\n state 2 = 0.5 \n--------------------------------------------------\nIteration 3\n state 1 = 4.0\n state 2 = 0.75 \n--------------------------------------------------\nIteration 4\n state 1 = 4.1875\n state 2 = 1.0 \n--------------------------------------------------\nIteration 5\n state 1 = 4.296875\n state 2 = 1.09375 \n--------------------------------------------------\nIteration 6\n state 1 = 4.34765625\n state 2 = 1.1484375 \n--------------------------------------------------\nIteration 7\n state 1 = 4.3740234375\n state 2 = 1.173828125 \n--------------------------------------------------\nIteration 8\n state 1 = 4.386962890625\n state 2 = 1.18701171875 \n--------------------------------------------------\nIteration 9\n state 1 = 4.39349365234375\n state 2 = 1.1934814453125 \n--------------------------------------------------\nIteration 10\n state 1 = 4.3967437744140625\n state 2 = 1.196746826171875 \n--------------------------------------------------\nIteration 11\n state 1 = 4.398372650146484\n state 2 = 1.1983718872070312 \n--------------------------------------------------\nIteration 12\n state 1 = 4.399186134338379\n state 2 = 1.1991863250732422 \n--------------------------------------------------\nIteration 13\n state 1 = 4.399593114852905\n state 2 = 1.1995930671691895 \n--------------------------------------------------\nIteration 14\n state 1 = 4.399796545505524\n state 2 = 1.1997965574264526 \n--------------------------------------------------\nIteration 15\n state 1 = 4.399898275732994\n state 2 = 1.1998982727527618 \n"
    }
   ],
   "source": [
    "# Initial states\n",
    "v1 = np.array([0.,0.])\n",
    "v0 = np.array([-1.,-1.])\n",
    "iteration = 0\n",
    "while not checkStopCriteria(v1,v0):\n",
    "    # Calculate new state\n",
    "    print('--------------------------------------------------')\n",
    "    iteration += 1\n",
    "    v0 = np.copy(v1)\n",
    "    v1[0] = r1 + gamma*np.maximum( a12_p11* (v0[0]) + a12_p12*(v0[1]), a11_p11*(v0[0]) + a11_p12*(v0[1]) )\n",
    "    v1[1] = r2 + gamma*np.maximum( a21_p21* (v0[0]) +a21_p22*(v0[1]), a22_p21*(v0[1]) + a22_p22*(v0[1]))\n",
    "    print(f'Iteration {iteration}\\n state 1 = {v1[0]}\\n state 2 = {v1[1]} ') "
   ]
  }
 ],
 "metadata": {
  "language_info": {
   "codemirror_mode": {
    "name": "ipython",
    "version": 3
   },
   "file_extension": ".py",
   "mimetype": "text/x-python",
   "name": "python",
   "nbconvert_exporter": "python",
   "pygments_lexer": "ipython3",
   "version": "3.7.6-final"
  },
  "orig_nbformat": 2,
  "kernelspec": {
   "name": "python37664bit8f4f289bf8eb478ea3376d50ccfb6ae0",
   "display_name": "Python 3.7.6 64-bit"
  }
 },
 "nbformat": 4,
 "nbformat_minor": 2
}