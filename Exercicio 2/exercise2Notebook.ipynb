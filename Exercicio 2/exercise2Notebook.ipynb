{
 "nbformat": 4,
 "nbformat_minor": 2,
 "metadata": {
  "language_info": {
   "name": "python",
   "codemirror_mode": {
    "name": "ipython",
    "version": 3
   },
   "version": "3.7.6-final"
  },
  "orig_nbformat": 2,
  "file_extension": ".py",
  "mimetype": "text/x-python",
  "name": "python",
  "npconvert_exporter": "python",
  "pygments_lexer": "ipython3",
  "version": 3,
  "kernelspec": {
   "name": "python37664bit8f4f289bf8eb478ea3376d50ccfb6ae0",
   "display_name": "Python 3.7.6 64-bit"
  }
 },
 "cells": [
  {
   "cell_type": "markdown",
   "metadata": {},
   "source": [
    "Exercicio 2 PCS5024, Mais algoritmos para a base adult kaggle"
   ],
   "execution_count": null,
   "outputs": []
  },
  {
   "cell_type": "code",
   "execution_count": null,
   "metadata": {},
   "outputs": [],
   "source": [
    "import FuncoesAuxiliares as fa\n",
    "import FuncoesDeMachineLearning as fml\n",
    "import pandas as pd \n",
    "import numpy as np\n",
    "import matplotlib.pyplot as plt\n",
    "import seaborn as sns\n",
    "import statsmodels.api as sm"
   ]
  },
  {
   "cell_type": "code",
   "execution_count": null,
   "metadata": {},
   "outputs": [],
   "source": [
    "datasetPath = f\"Kaggle\\\\adult.csv\"\n",
    "datasetDataFrame = fa.getDataframeInSpecificFormat(datasetPath)"
   ]
  },
  {
   "cell_type": "markdown",
   "metadata": {},
   "source": [
    "Descricao das colunas discretas da base "
   ],
   "execution_count": null,
   "outputs": []
  },
  {
   "cell_type": "code",
   "execution_count": null,
   "metadata": {},
   "outputs": [],
   "source": [
    "describedDataFrame = pd.DataFrame(columns = None)\n",
    "for column in datasetDataFrame.columns:\n",
    "    if (datasetDataFrame[column].dtype == 'object'):\n",
    "        describedDataFrame[column] = datasetDataFrame[column].describe(include=['category'])\n",
    "describedDataFrame"
   ]
  },
  {
   "cell_type": "code",
   "execution_count": null,
   "metadata": {},
   "outputs": [],
   "source": [
    "datasetDataFrame['workclass'].value_counts()"
   ]
  },
  {
   "cell_type": "markdown",
   "metadata": {},
   "source": [
    "Transforma classes binarias em variaveis binarias"
   ],
   "execution_count": null,
   "outputs": []
  },
  {
   "cell_type": "code",
   "execution_count": null,
   "metadata": {},
   "outputs": [],
   "source": [
    "outputName = 'income'\n",
    "datasetDataFrameReducedColumns = datasetDataFrame.copy() \n",
    "datasetDataFrameReducedColumns[outputName] =  datasetDataFrame[\"income\"].map({\"<=50K\":0, \">50K\":1})\n",
    "datasetDataFrameReducedColumns['sex'] =  datasetDataFrame[\"sex\"].map({\"Male\":1, \"Female\":0})\n",
    "# Coluna casado ou não\n",
    "datasetDataFrameReducedColumns[\"marital.status\"] = datasetDataFrameReducedColumns[\"marital.status\"].replace(['Never-married','Divorced','Separated','Widowed'], 'Single')\n",
    "datasetDataFrameReducedColumns[\"marital.status\"] = datasetDataFrameReducedColumns[\"marital.status\"].replace(['Married-civ-spouse','Married-spouse-absent','Married-AF-spouse'],'Married')\n",
    "datasetDataFrameReducedColumns[\"marital.status\"] = datasetDataFrameReducedColumns[\"marital.status\"].map({\"Married\":1, \"Single\":0})\n",
    "# dropa a coluna de education como int\n",
    "datasetDataFrameReducedColumns.drop(['education.num'],axis = 1,inplace=True)"
   ]
  },
  {
   "cell_type": "markdown",
   "metadata": {},
   "source": [
    "Porcentagem de nulos em cada uma das colunas"
   ],
   "execution_count": null,
   "outputs": []
  },
  {
   "cell_type": "code",
   "execution_count": null,
   "metadata": {},
   "outputs": [],
   "source": [
    "dicOfMissingValues = {}\n",
    "sizeOfData = len(datasetDataFrameReducedColumns.index)\n",
    "for column in datasetDataFrameReducedColumns.columns:\n",
    "    dicOfMissingValues[column] = list(datasetDataFrame[column]).count(\"?\")*100/sizeOfData\n",
    "print(\"Porcentagem de '?' em cada coluna \")\n",
    "for key,val in  dicOfMissingValues.items(): \n",
    "    print('{key} - {val:.2f}%'.format(key = key, val = val))"
   ]
  },
  {
   "cell_type": "markdown",
   "metadata": {},
   "source": [
    "Remove as linhas que possuem valores nulos"
   ],
   "execution_count": null,
   "outputs": []
  },
  {
   "cell_type": "code",
   "execution_count": null,
   "metadata": {},
   "outputs": [],
   "source": [
    "datasetDataFrameWithoutColumnsWithMissingValues = fa.removeLinesWithMissingValues(datasetDataFrameReducedColumns)\n",
    "print(f\"Numero total de linhas = {len(datasetDataFrameReducedColumns.index)}\")\n",
    "print(f\"Numero total de linhas que não possuem valores nulos = {len(datasetDataFrameWithoutColumnsWithMissingValues.index)}\")\n",
    "print(\"Porcentagem de linhas perdidas = \")\n",
    "print(f\"{(1 - len(datasetDataFrameWithoutColumnsWithMissingValues.index)/len(datasetDataFrameReducedColumns.index))*100:.2f}%\")"
   ]
  },
  {
   "cell_type": "code",
   "execution_count": null,
   "metadata": {},
   "outputs": [],
   "source": [
    "describedDataFrame = pd.DataFrame(columns = None)\n",
    "for column in datasetDataFrameWithoutColumnsWithMissingValues.columns:\n",
    "    if (datasetDataFrameWithoutColumnsWithMissingValues[column].dtype != 'object'):\n",
    "        describedDataFrame[column] = datasetDataFrameWithoutColumnsWithMissingValues[column].describe(include=['category'])\n",
    "describedDataFrame"
   ]
  },
  {
   "cell_type": "code",
   "execution_count": null,
   "metadata": {},
   "outputs": [],
   "source": [
    "datasetDataFrameWithoutColumnsWithMissingValues['relationship'].value_counts()"
   ]
  },
  {
   "cell_type": "markdown",
   "metadata": {},
   "source": [
    "Mostra imagem de correlação"
   ],
   "execution_count": null,
   "outputs": []
  },
  {
   "cell_type": "code",
   "execution_count": null,
   "metadata": {},
   "outputs": [],
   "source": [
    "dummiesDataFrame = pd.get_dummies(datasetDataFrameWithoutColumnsWithMissingValues)\n",
    "cor = dummiesDataFrame.corr()\n",
    "cor_target = abs(cor[outputName]).sort_values(ascending=False)[1:]\n",
    "cor_target"
   ]
  },
  {
   "cell_type": "code",
   "execution_count": null,
   "metadata": {},
   "outputs": [],
   "source": [
    "numberOfRelevantVariables = 5\n",
    "columnsNamesToBeRemoved = list(cor_target.keys()[numberOfRelevantVariables:])\n",
    "correlatedDataFrame = dummiesDataFrame.drop(columns = columnsNamesToBeRemoved)\n",
    "plt.figure(figsize=(50,40))\n",
    "cor = correlatedDataFrame.corr()\n",
    "sns.set(font_scale=4)\n",
    "sns.heatmap(cor, annot=True, cmap=plt.cm.Reds, annot_kws={\"size\": 50})"
   ]
  },
  {
   "cell_type": "markdown",
   "metadata": {},
   "source": [
    "Create training validaditon and test sets"
   ],
   "execution_count": null,
   "outputs": []
  },
  {
   "cell_type": "code",
   "execution_count": 57,
   "metadata": {},
   "outputs": [],
   "source": [
    "numberOfRelevantVariables = 20\n",
    "X_train,X_crossVal, X_test,y_train,y_crossVal, y_test = fa.prepareDatasetforTraining(datasetDataFrameWithoutColumnsWithMissingValues,outputName,numberOfRelevantVariables)"
   ]
  },
  {
   "cell_type": "markdown",
   "metadata": {},
   "source": [
    "Cross Validating algorithms"
   ],
   "execution_count": null,
   "outputs": []
  },
  {
   "cell_type": "code",
   "execution_count": null,
   "metadata": {},
   "outputs": [],
   "source": [
    "#KNN algorithm\n",
    "knnPerformanceDataFrame = fml.applyKNNWithDifferentHyperparameters(X_train, X_crossVal, y_train, y_crossVal,numberOfRelevantVariables)\n",
    "knnPerformanceDataFrame.to_excel('knnPeformance.xlsx')\n",
    "knnPerformanceDataFrame"
   ]
  },
  {
   "cell_type": "code",
   "execution_count": null,
   "metadata": {},
   "outputs": [],
   "source": [
    "#Naieve bayes\n",
    "naiveBayesPerfomanceDataFrame = fml.applyNaiveBayesWithDifferentHyperparameters(X_train, X_crossVal, y_train, y_crossVal,numberOfRelevantVariables)\n",
    "naiveBayesPerfomanceDataFrame.to_excel('NBPeformance.xlsx')\n",
    "naiveBayesPerfomanceDataFrame"
   ]
  },
  {
   "cell_type": "code",
   "execution_count": null,
   "metadata": {},
   "outputs": [],
   "source": [
    "#Logistic Regression\n",
    "logisticRegressionPerformanceDataFrame = fml.applyLogisticRegressionDifferentHyperparameters(X_train, X_crossVal, y_train, y_crossVal,numberOfRelevantVariables)\n",
    "logisticRegressionPerformanceDataFrame.to_excel('LRPeformance.xlsx')\n",
    "logisticRegressionPerformanceDataFrame"
   ]
  },
  {
   "cell_type": "code",
   "execution_count": null,
   "metadata": {},
   "outputs": [],
   "source": [
    "#Decision Tree\n",
    "decisionTreePerformanceDataFrame = fml.applyDecisionTreeDifferentHyperparameters(X_train, X_crossVal, y_train, y_crossVal,numberOfRelevantVariables)\n",
    "decisionTreePerformanceDataFrame.to_excel('DTPeformance.xlsx')\n",
    "decisionTreePerformanceDataFrame"
   ]
  },
  {
   "cell_type": "code",
   "execution_count": null,
   "metadata": {},
   "outputs": [],
   "source": [
    "#Random forest\n",
    "randomForestPerformanceDataFrame = fml.applyRandomForestDifferentHyperparameters(X_train, X_crossVal, y_train, y_crossVal,numberOfRelevantVariables)\n",
    "randomForestPerformanceDataFrame.to_excel('RFPeformance.xlsx')\n",
    "randomForestPerformanceDataFrame"
   ]
  },
  {
   "cell_type": "markdown",
   "metadata": {},
   "source": [
    "Treinamento final:"
   ],
   "execution_count": null,
   "outputs": []
  },
  {
   "cell_type": "code",
   "execution_count": 58,
   "metadata": {},
   "outputs": [
    {
     "output_type": "execute_result",
     "data": {
      "text/plain": "((18096, 20), (6033, 20), (24129, 20), (6033, 20))"
     },
     "metadata": {},
     "execution_count": 58
    }
   ],
   "source": [
    "X_train.shape, X_crossVal.shape,X_new_train.shape,X_test.shape"
   ]
  },
  {
   "cell_type": "code",
   "execution_count": 59,
   "metadata": {},
   "outputs": [],
   "source": [
    "X_new_train = np.concatenate((X_train, X_crossVal), axis=0)\n",
    "y_new_train = np.concatenate((y_train, y_crossVal), axis=0)"
   ]
  },
  {
   "cell_type": "code",
   "execution_count": 60,
   "metadata": {},
   "outputs": [
    {
     "output_type": "execute_result",
     "data": {
      "text/plain": "    max_depth  n_estimator  number of relevant variables  accuracy  precision  \\\n0          10          200                            20  0.852810   0.776673   \n1          35          200                            20  0.835571   0.702229   \n2          60          200                            20  0.835571   0.702552   \n3          85          200                            20  0.835571   0.702552   \n4         110          200                            20  0.835571   0.702552   \n5          10          650                            20  0.851318   0.778908   \n6          35          650                            20  0.836400   0.708367   \n7          60          650                            20  0.836400   0.707357   \n8          85          650                            20  0.836400   0.707357   \n9         110          650                            20  0.836400   0.707357   \n10         10         1100                            20  0.851152   0.781308   \n11         35         1100                            20  0.837560   0.712766   \n12         60         1100                            20  0.837726   0.712653   \n13         85         1100                            20  0.837726   0.712653   \n14        110         1100                            20  0.837726   0.712653   \n15         10         1550                            20  0.851152   0.781835   \n16         35         1550                            20  0.838389   0.714636   \n17         60         1550                            20  0.837229   0.711256   \n18         85         1550                            20  0.837229   0.711256   \n19        110         1550                            20  0.837229   0.711256   \n20         10         2000                            20  0.851649   0.783505   \n21         35         2000                            20  0.836731   0.709520   \n22         60         2000                            20  0.835903   0.705977   \n23         85         2000                            20  0.835903   0.705977   \n24        110         2000                            20  0.835903   0.705977   \n\n      recall  f1-score  \n0   0.572667  0.659248  \n1   0.588000  0.640058  \n2   0.587333  0.639797  \n3   0.587333  0.639797  \n4   0.587333  0.639797  \n5   0.561333  0.652460  \n6   0.581333  0.638594  \n7   0.583333  0.639386  \n8   0.583333  0.639386  \n9   0.583333  0.639386  \n10  0.557333  0.650584  \n11  0.580667  0.639971  \n12  0.582000  0.640734  \n13  0.582000  0.640734  \n14  0.582000  0.640734  \n15  0.556667  0.650312  \n16  0.582667  0.641939  \n17  0.581333  0.639765  \n18  0.581333  0.639765  \n19  0.581333  0.639765  \n20  0.557333  0.651344  \n21  0.581333  0.639062  \n22  0.582667  0.638422  \n23  0.582667  0.638422  \n24  0.582667  0.638422  ",
      "text/html": "<div>\n<style scoped>\n    .dataframe tbody tr th:only-of-type {\n        vertical-align: middle;\n    }\n\n    .dataframe tbody tr th {\n        vertical-align: top;\n    }\n\n    .dataframe thead th {\n        text-align: right;\n    }\n</style>\n<table border=\"1\" class=\"dataframe\">\n  <thead>\n    <tr style=\"text-align: right;\">\n      <th></th>\n      <th>max_depth</th>\n      <th>n_estimator</th>\n      <th>number of relevant variables</th>\n      <th>accuracy</th>\n      <th>precision</th>\n      <th>recall</th>\n      <th>f1-score</th>\n    </tr>\n  </thead>\n  <tbody>\n    <tr>\n      <th>0</th>\n      <td>10</td>\n      <td>200</td>\n      <td>20</td>\n      <td>0.852810</td>\n      <td>0.776673</td>\n      <td>0.572667</td>\n      <td>0.659248</td>\n    </tr>\n    <tr>\n      <th>1</th>\n      <td>35</td>\n      <td>200</td>\n      <td>20</td>\n      <td>0.835571</td>\n      <td>0.702229</td>\n      <td>0.588000</td>\n      <td>0.640058</td>\n    </tr>\n    <tr>\n      <th>2</th>\n      <td>60</td>\n      <td>200</td>\n      <td>20</td>\n      <td>0.835571</td>\n      <td>0.702552</td>\n      <td>0.587333</td>\n      <td>0.639797</td>\n    </tr>\n    <tr>\n      <th>3</th>\n      <td>85</td>\n      <td>200</td>\n      <td>20</td>\n      <td>0.835571</td>\n      <td>0.702552</td>\n      <td>0.587333</td>\n      <td>0.639797</td>\n    </tr>\n    <tr>\n      <th>4</th>\n      <td>110</td>\n      <td>200</td>\n      <td>20</td>\n      <td>0.835571</td>\n      <td>0.702552</td>\n      <td>0.587333</td>\n      <td>0.639797</td>\n    </tr>\n    <tr>\n      <th>5</th>\n      <td>10</td>\n      <td>650</td>\n      <td>20</td>\n      <td>0.851318</td>\n      <td>0.778908</td>\n      <td>0.561333</td>\n      <td>0.652460</td>\n    </tr>\n    <tr>\n      <th>6</th>\n      <td>35</td>\n      <td>650</td>\n      <td>20</td>\n      <td>0.836400</td>\n      <td>0.708367</td>\n      <td>0.581333</td>\n      <td>0.638594</td>\n    </tr>\n    <tr>\n      <th>7</th>\n      <td>60</td>\n      <td>650</td>\n      <td>20</td>\n      <td>0.836400</td>\n      <td>0.707357</td>\n      <td>0.583333</td>\n      <td>0.639386</td>\n    </tr>\n    <tr>\n      <th>8</th>\n      <td>85</td>\n      <td>650</td>\n      <td>20</td>\n      <td>0.836400</td>\n      <td>0.707357</td>\n      <td>0.583333</td>\n      <td>0.639386</td>\n    </tr>\n    <tr>\n      <th>9</th>\n      <td>110</td>\n      <td>650</td>\n      <td>20</td>\n      <td>0.836400</td>\n      <td>0.707357</td>\n      <td>0.583333</td>\n      <td>0.639386</td>\n    </tr>\n    <tr>\n      <th>10</th>\n      <td>10</td>\n      <td>1100</td>\n      <td>20</td>\n      <td>0.851152</td>\n      <td>0.781308</td>\n      <td>0.557333</td>\n      <td>0.650584</td>\n    </tr>\n    <tr>\n      <th>11</th>\n      <td>35</td>\n      <td>1100</td>\n      <td>20</td>\n      <td>0.837560</td>\n      <td>0.712766</td>\n      <td>0.580667</td>\n      <td>0.639971</td>\n    </tr>\n    <tr>\n      <th>12</th>\n      <td>60</td>\n      <td>1100</td>\n      <td>20</td>\n      <td>0.837726</td>\n      <td>0.712653</td>\n      <td>0.582000</td>\n      <td>0.640734</td>\n    </tr>\n    <tr>\n      <th>13</th>\n      <td>85</td>\n      <td>1100</td>\n      <td>20</td>\n      <td>0.837726</td>\n      <td>0.712653</td>\n      <td>0.582000</td>\n      <td>0.640734</td>\n    </tr>\n    <tr>\n      <th>14</th>\n      <td>110</td>\n      <td>1100</td>\n      <td>20</td>\n      <td>0.837726</td>\n      <td>0.712653</td>\n      <td>0.582000</td>\n      <td>0.640734</td>\n    </tr>\n    <tr>\n      <th>15</th>\n      <td>10</td>\n      <td>1550</td>\n      <td>20</td>\n      <td>0.851152</td>\n      <td>0.781835</td>\n      <td>0.556667</td>\n      <td>0.650312</td>\n    </tr>\n    <tr>\n      <th>16</th>\n      <td>35</td>\n      <td>1550</td>\n      <td>20</td>\n      <td>0.838389</td>\n      <td>0.714636</td>\n      <td>0.582667</td>\n      <td>0.641939</td>\n    </tr>\n    <tr>\n      <th>17</th>\n      <td>60</td>\n      <td>1550</td>\n      <td>20</td>\n      <td>0.837229</td>\n      <td>0.711256</td>\n      <td>0.581333</td>\n      <td>0.639765</td>\n    </tr>\n    <tr>\n      <th>18</th>\n      <td>85</td>\n      <td>1550</td>\n      <td>20</td>\n      <td>0.837229</td>\n      <td>0.711256</td>\n      <td>0.581333</td>\n      <td>0.639765</td>\n    </tr>\n    <tr>\n      <th>19</th>\n      <td>110</td>\n      <td>1550</td>\n      <td>20</td>\n      <td>0.837229</td>\n      <td>0.711256</td>\n      <td>0.581333</td>\n      <td>0.639765</td>\n    </tr>\n    <tr>\n      <th>20</th>\n      <td>10</td>\n      <td>2000</td>\n      <td>20</td>\n      <td>0.851649</td>\n      <td>0.783505</td>\n      <td>0.557333</td>\n      <td>0.651344</td>\n    </tr>\n    <tr>\n      <th>21</th>\n      <td>35</td>\n      <td>2000</td>\n      <td>20</td>\n      <td>0.836731</td>\n      <td>0.709520</td>\n      <td>0.581333</td>\n      <td>0.639062</td>\n    </tr>\n    <tr>\n      <th>22</th>\n      <td>60</td>\n      <td>2000</td>\n      <td>20</td>\n      <td>0.835903</td>\n      <td>0.705977</td>\n      <td>0.582667</td>\n      <td>0.638422</td>\n    </tr>\n    <tr>\n      <th>23</th>\n      <td>85</td>\n      <td>2000</td>\n      <td>20</td>\n      <td>0.835903</td>\n      <td>0.705977</td>\n      <td>0.582667</td>\n      <td>0.638422</td>\n    </tr>\n    <tr>\n      <th>24</th>\n      <td>110</td>\n      <td>2000</td>\n      <td>20</td>\n      <td>0.835903</td>\n      <td>0.705977</td>\n      <td>0.582667</td>\n      <td>0.638422</td>\n    </tr>\n  </tbody>\n</table>\n</div>"
     },
     "metadata": {},
     "execution_count": 60
    }
   ],
   "source": [
    "numberOfRelevantVariables = 20\n",
    "randomForestPerformanceDataFrame = fml.applyRandomForestDifferentHyperparameters(X_new_train, X_test, y_new_train, y_test,numberOfRelevantVariables)\n",
    "randomForestPerformanceDataFrame"
   ]
  },
  {
   "cell_type": "code",
   "execution_count": 61,
   "metadata": {},
   "outputs": [
    {
     "output_type": "execute_result",
     "data": {
      "text/plain": "    max_depth  n_estimator  number of relevant variables  accuracy  precision  \\\n0          10          200                            20  0.852810   0.776673   \n5          10          650                            20  0.851318   0.778908   \n20         10         2000                            20  0.851649   0.783505   \n10         10         1100                            20  0.851152   0.781308   \n15         10         1550                            20  0.851152   0.781835   \n16         35         1550                            20  0.838389   0.714636   \n14        110         1100                            20  0.837726   0.712653   \n13         85         1100                            20  0.837726   0.712653   \n12         60         1100                            20  0.837726   0.712653   \n1          35          200                            20  0.835571   0.702229   \n11         35         1100                            20  0.837560   0.712766   \n4         110          200                            20  0.835571   0.702552   \n3          85          200                            20  0.835571   0.702552   \n2          60          200                            20  0.835571   0.702552   \n17         60         1550                            20  0.837229   0.711256   \n18         85         1550                            20  0.837229   0.711256   \n19        110         1550                            20  0.837229   0.711256   \n9         110          650                            20  0.836400   0.707357   \n8          85          650                            20  0.836400   0.707357   \n7          60          650                            20  0.836400   0.707357   \n21         35         2000                            20  0.836731   0.709520   \n6          35          650                            20  0.836400   0.708367   \n22         60         2000                            20  0.835903   0.705977   \n23         85         2000                            20  0.835903   0.705977   \n24        110         2000                            20  0.835903   0.705977   \n\n      recall  f1-score  \n0   0.572667  0.659248  \n5   0.561333  0.652460  \n20  0.557333  0.651344  \n10  0.557333  0.650584  \n15  0.556667  0.650312  \n16  0.582667  0.641939  \n14  0.582000  0.640734  \n13  0.582000  0.640734  \n12  0.582000  0.640734  \n1   0.588000  0.640058  \n11  0.580667  0.639971  \n4   0.587333  0.639797  \n3   0.587333  0.639797  \n2   0.587333  0.639797  \n17  0.581333  0.639765  \n18  0.581333  0.639765  \n19  0.581333  0.639765  \n9   0.583333  0.639386  \n8   0.583333  0.639386  \n7   0.583333  0.639386  \n21  0.581333  0.639062  \n6   0.581333  0.638594  \n22  0.582667  0.638422  \n23  0.582667  0.638422  \n24  0.582667  0.638422  ",
      "text/html": "<div>\n<style scoped>\n    .dataframe tbody tr th:only-of-type {\n        vertical-align: middle;\n    }\n\n    .dataframe tbody tr th {\n        vertical-align: top;\n    }\n\n    .dataframe thead th {\n        text-align: right;\n    }\n</style>\n<table border=\"1\" class=\"dataframe\">\n  <thead>\n    <tr style=\"text-align: right;\">\n      <th></th>\n      <th>max_depth</th>\n      <th>n_estimator</th>\n      <th>number of relevant variables</th>\n      <th>accuracy</th>\n      <th>precision</th>\n      <th>recall</th>\n      <th>f1-score</th>\n    </tr>\n  </thead>\n  <tbody>\n    <tr>\n      <th>0</th>\n      <td>10</td>\n      <td>200</td>\n      <td>20</td>\n      <td>0.852810</td>\n      <td>0.776673</td>\n      <td>0.572667</td>\n      <td>0.659248</td>\n    </tr>\n    <tr>\n      <th>5</th>\n      <td>10</td>\n      <td>650</td>\n      <td>20</td>\n      <td>0.851318</td>\n      <td>0.778908</td>\n      <td>0.561333</td>\n      <td>0.652460</td>\n    </tr>\n    <tr>\n      <th>20</th>\n      <td>10</td>\n      <td>2000</td>\n      <td>20</td>\n      <td>0.851649</td>\n      <td>0.783505</td>\n      <td>0.557333</td>\n      <td>0.651344</td>\n    </tr>\n    <tr>\n      <th>10</th>\n      <td>10</td>\n      <td>1100</td>\n      <td>20</td>\n      <td>0.851152</td>\n      <td>0.781308</td>\n      <td>0.557333</td>\n      <td>0.650584</td>\n    </tr>\n    <tr>\n      <th>15</th>\n      <td>10</td>\n      <td>1550</td>\n      <td>20</td>\n      <td>0.851152</td>\n      <td>0.781835</td>\n      <td>0.556667</td>\n      <td>0.650312</td>\n    </tr>\n    <tr>\n      <th>16</th>\n      <td>35</td>\n      <td>1550</td>\n      <td>20</td>\n      <td>0.838389</td>\n      <td>0.714636</td>\n      <td>0.582667</td>\n      <td>0.641939</td>\n    </tr>\n    <tr>\n      <th>14</th>\n      <td>110</td>\n      <td>1100</td>\n      <td>20</td>\n      <td>0.837726</td>\n      <td>0.712653</td>\n      <td>0.582000</td>\n      <td>0.640734</td>\n    </tr>\n    <tr>\n      <th>13</th>\n      <td>85</td>\n      <td>1100</td>\n      <td>20</td>\n      <td>0.837726</td>\n      <td>0.712653</td>\n      <td>0.582000</td>\n      <td>0.640734</td>\n    </tr>\n    <tr>\n      <th>12</th>\n      <td>60</td>\n      <td>1100</td>\n      <td>20</td>\n      <td>0.837726</td>\n      <td>0.712653</td>\n      <td>0.582000</td>\n      <td>0.640734</td>\n    </tr>\n    <tr>\n      <th>1</th>\n      <td>35</td>\n      <td>200</td>\n      <td>20</td>\n      <td>0.835571</td>\n      <td>0.702229</td>\n      <td>0.588000</td>\n      <td>0.640058</td>\n    </tr>\n    <tr>\n      <th>11</th>\n      <td>35</td>\n      <td>1100</td>\n      <td>20</td>\n      <td>0.837560</td>\n      <td>0.712766</td>\n      <td>0.580667</td>\n      <td>0.639971</td>\n    </tr>\n    <tr>\n      <th>4</th>\n      <td>110</td>\n      <td>200</td>\n      <td>20</td>\n      <td>0.835571</td>\n      <td>0.702552</td>\n      <td>0.587333</td>\n      <td>0.639797</td>\n    </tr>\n    <tr>\n      <th>3</th>\n      <td>85</td>\n      <td>200</td>\n      <td>20</td>\n      <td>0.835571</td>\n      <td>0.702552</td>\n      <td>0.587333</td>\n      <td>0.639797</td>\n    </tr>\n    <tr>\n      <th>2</th>\n      <td>60</td>\n      <td>200</td>\n      <td>20</td>\n      <td>0.835571</td>\n      <td>0.702552</td>\n      <td>0.587333</td>\n      <td>0.639797</td>\n    </tr>\n    <tr>\n      <th>17</th>\n      <td>60</td>\n      <td>1550</td>\n      <td>20</td>\n      <td>0.837229</td>\n      <td>0.711256</td>\n      <td>0.581333</td>\n      <td>0.639765</td>\n    </tr>\n    <tr>\n      <th>18</th>\n      <td>85</td>\n      <td>1550</td>\n      <td>20</td>\n      <td>0.837229</td>\n      <td>0.711256</td>\n      <td>0.581333</td>\n      <td>0.639765</td>\n    </tr>\n    <tr>\n      <th>19</th>\n      <td>110</td>\n      <td>1550</td>\n      <td>20</td>\n      <td>0.837229</td>\n      <td>0.711256</td>\n      <td>0.581333</td>\n      <td>0.639765</td>\n    </tr>\n    <tr>\n      <th>9</th>\n      <td>110</td>\n      <td>650</td>\n      <td>20</td>\n      <td>0.836400</td>\n      <td>0.707357</td>\n      <td>0.583333</td>\n      <td>0.639386</td>\n    </tr>\n    <tr>\n      <th>8</th>\n      <td>85</td>\n      <td>650</td>\n      <td>20</td>\n      <td>0.836400</td>\n      <td>0.707357</td>\n      <td>0.583333</td>\n      <td>0.639386</td>\n    </tr>\n    <tr>\n      <th>7</th>\n      <td>60</td>\n      <td>650</td>\n      <td>20</td>\n      <td>0.836400</td>\n      <td>0.707357</td>\n      <td>0.583333</td>\n      <td>0.639386</td>\n    </tr>\n    <tr>\n      <th>21</th>\n      <td>35</td>\n      <td>2000</td>\n      <td>20</td>\n      <td>0.836731</td>\n      <td>0.709520</td>\n      <td>0.581333</td>\n      <td>0.639062</td>\n    </tr>\n    <tr>\n      <th>6</th>\n      <td>35</td>\n      <td>650</td>\n      <td>20</td>\n      <td>0.836400</td>\n      <td>0.708367</td>\n      <td>0.581333</td>\n      <td>0.638594</td>\n    </tr>\n    <tr>\n      <th>22</th>\n      <td>60</td>\n      <td>2000</td>\n      <td>20</td>\n      <td>0.835903</td>\n      <td>0.705977</td>\n      <td>0.582667</td>\n      <td>0.638422</td>\n    </tr>\n    <tr>\n      <th>23</th>\n      <td>85</td>\n      <td>2000</td>\n      <td>20</td>\n      <td>0.835903</td>\n      <td>0.705977</td>\n      <td>0.582667</td>\n      <td>0.638422</td>\n    </tr>\n    <tr>\n      <th>24</th>\n      <td>110</td>\n      <td>2000</td>\n      <td>20</td>\n      <td>0.835903</td>\n      <td>0.705977</td>\n      <td>0.582667</td>\n      <td>0.638422</td>\n    </tr>\n  </tbody>\n</table>\n</div>"
     },
     "metadata": {},
     "execution_count": 61
    }
   ],
   "source": [
    "randomForestPerformanceDataFrame.sort_values(by='f1-score', ascending=False)"
   ]
  }
 ]
}